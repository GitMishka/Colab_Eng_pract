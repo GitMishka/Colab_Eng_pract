{
  "nbformat": 4,
  "nbformat_minor": 0,
  "metadata": {
    "colab": {
      "provenance": [],
      "authorship_tag": "ABX9TyM6LWFQJnBktZ+1WnfwRWDP",
      "include_colab_link": true
    },
    "kernelspec": {
      "name": "python3",
      "display_name": "Python 3"
    },
    "language_info": {
      "name": "python"
    }
  },
  "cells": [
    {
      "cell_type": "markdown",
      "metadata": {
        "id": "view-in-github",
        "colab_type": "text"
      },
      "source": [
        "<a href=\"https://colab.research.google.com/github/GitMishka/Colab_Eng_pract/blob/main/10_22_2023_df_sql_code.ipynb\" target=\"_parent\"><img src=\"https://colab.research.google.com/assets/colab-badge.svg\" alt=\"Open In Colab\"/></a>"
      ]
    },
    {
      "cell_type": "code",
      "execution_count": null,
      "metadata": {
        "id": "SWi_qyjLRc6-"
      },
      "outputs": [],
      "source": [
        "from pyspark.sql.functions import col\n",
        "from pyspark.sql.types import IntegerType, DoubleType, BooleanType, DateType"
      ]
    },
    {
      "cell_type": "code",
      "source": [
        "\n",
        "configs = {\"fs.azure.account.auth.type\": \"OAuth\",\n",
        "\"fs.azure.account.oauth.provider.type\": \"org.apache.hadoop.fs.azurebfs.oauth2.ClientCredsTokenProvider\",\n",
        "\"fs.azure.account.oauth2.client.id\": \"\",\n",
        "\"fs.azure.account.oauth2.client.secret\": '',\n",
        "\"fs.azure.account.oauth2.client.endpoint\": \"https://login.microsoftonline.com/tanent_id/oauth2/token\"}\n",
        "\n",
        "\n",
        "dbutils.fs.mount(\n",
        "source = \"abfss://tokyo-olympic-data@tokyoolympicdata.dfs.core.windows.net\",\n",
        "mount_point = \"/mnt/tokyoolymic\",\n",
        "extra_configs = configs)"
      ],
      "metadata": {
        "id": "3F9EOzCLRu35"
      },
      "execution_count": null,
      "outputs": []
    },
    {
      "cell_type": "code",
      "source": [
        "\n",
        "%fs\n",
        "ls \"/mnt/tokyoolymic\""
      ],
      "metadata": {
        "id": "rA8UE66oR5Sm"
      },
      "execution_count": null,
      "outputs": []
    },
    {
      "cell_type": "code",
      "source": [
        "spark"
      ],
      "metadata": {
        "id": "zdKoTQNRR7rv"
      },
      "execution_count": null,
      "outputs": []
    },
    {
      "cell_type": "code",
      "source": [
        "athletes = spark.read.format(\"csv\").option(\"header\",\"true\").option(\"inferSchema\",\"true\").load(\"/mnt/tokyoolymic/raw-data/athletes.csv\")\n",
        "coaches = spark.read.format(\"csv\").option(\"header\",\"true\").option(\"inferSchema\",\"true\").load(\"/mnt/tokyoolymic/raw-data/coaches.csv\")\n",
        "entriesgender = spark.read.format(\"csv\").option(\"header\",\"true\").option(\"inferSchema\",\"true\").load(\"/mnt/tokyoolymic/raw-data/entriesgender.csv\")\n",
        "medals = spark.read.format(\"csv\").option(\"header\",\"true\").option(\"inferSchema\",\"true\").load(\"/mnt/tokyoolymic/raw-data/medals.csv\")\n",
        "teams = spark.read.format(\"csv\").option(\"header\",\"true\").option(\"inferSchema\",\"true\").load(\"/mnt/tokyoolymic/raw-data/teams.csv\")\n",
        ""
      ],
      "metadata": {
        "id": "z294XVEKR85m"
      },
      "execution_count": null,
      "outputs": []
    }
  ]
}