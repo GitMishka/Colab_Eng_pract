{
  "nbformat": 4,
  "nbformat_minor": 0,
  "metadata": {
    "colab": {
      "provenance": [],
      "authorship_tag": "ABX9TyOBPdnX7AT+L0akLaCHdY0N",
      "include_colab_link": true
    },
    "kernelspec": {
      "name": "python3",
      "display_name": "Python 3"
    },
    "language_info": {
      "name": "python"
    }
  },
  "cells": [
    {
      "cell_type": "markdown",
      "metadata": {
        "id": "view-in-github",
        "colab_type": "text"
      },
      "source": [
        "<a href=\"https://colab.research.google.com/github/GitMishka/Colab_Eng_pract/blob/main/Untitled0.ipynb\" target=\"_parent\"><img src=\"https://colab.research.google.com/assets/colab-badge.svg\" alt=\"Open In Colab\"/></a>"
      ]
    },
    {
      "cell_type": "code",
      "execution_count": 1,
      "metadata": {
        "id": "qC2wvIFD6Pd3"
      },
      "outputs": [],
      "source": [
        "!pip install pyspark"
      ]
    },
    {
      "cell_type": "code",
      "source": [
        "from pyspark.sql import SparkSession\n",
        "\n",
        "spark = SparkSession.builder.appName(\"BigDataMove\").getOrCreate()\n",
        "\n",
        "df = spark.read.csv(\"hdfs://source_path/users.csv\", header=True, inferSchema=True)\n",
        "\n",
        "filtered_df = df.filter(df.age >= 18)\n",
        "\n",
        "filtered_df.write.csv(\"hdfs://destination_path/filtered_users.csv\")\n",
        "\n",
        "spark.stop()\n"
      ],
      "metadata": {
        "id": "ksljxb536jwy"
      },
      "execution_count": null,
      "outputs": []
    }
  ]
}