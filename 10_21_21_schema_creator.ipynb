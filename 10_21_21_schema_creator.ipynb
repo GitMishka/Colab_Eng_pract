{
  "nbformat": 4,
  "nbformat_minor": 0,
  "metadata": {
    "colab": {
      "provenance": [],
      "authorship_tag": "ABX9TyO6Jbm56j2fWE94+LjIF2T0",
      "include_colab_link": true
    },
    "kernelspec": {
      "name": "python3",
      "display_name": "Python 3"
    },
    "language_info": {
      "name": "python"
    }
  },
  "cells": [
    {
      "cell_type": "markdown",
      "metadata": {
        "id": "view-in-github",
        "colab_type": "text"
      },
      "source": [
        "<a href=\"https://colab.research.google.com/github/GitMishka/Colab_Eng_pract/blob/main/10_21_21_schema_creator.ipynb\" target=\"_parent\"><img src=\"https://colab.research.google.com/assets/colab-badge.svg\" alt=\"Open In Colab\"/></a>"
      ]
    },
    {
      "cell_type": "code",
      "execution_count": null,
      "metadata": {
        "id": "4V11JXHKL_IN"
      },
      "outputs": [],
      "source": [
        "import psycopg2\n",
        "from random import randint, choice, date, time\n",
        "from string import ascii_letters"
      ]
    },
    {
      "cell_type": "code",
      "source": [
        "db_params = {\n",
        "    'dbname': 'your_db_name',\n",
        "    'user': 'your_username',\n",
        "    'password': 'your_password',\n",
        "    'host': 'localhost',\n",
        "    'port': '5432'\n",
        "}"
      ],
      "metadata": {
        "id": "7QK1utNLMPlr"
      },
      "execution_count": null,
      "outputs": []
    },
    {
      "cell_type": "code",
      "source": [
        "def random_string(length=10):\n",
        "    return ''.join(choice(ascii_letters) for _ in range(length))"
      ],
      "metadata": {
        "id": "sx3X2ZaFMnal"
      },
      "execution_count": null,
      "outputs": []
    },
    {
      "cell_type": "code",
      "source": [
        "def random_date():\n",
        "    return date(randint(2000, 2023), randint(1, 12), randint(1, 28))"
      ],
      "metadata": {
        "id": "NVAaeAcbMpEu"
      },
      "execution_count": null,
      "outputs": []
    },
    {
      "cell_type": "code",
      "source": [
        "def random_time():\n",
        "    return time(randint(0, 23), randint(0, 59))"
      ],
      "metadata": {
        "id": "JXLEtZJxMq9P"
      },
      "execution_count": null,
      "outputs": []
    }
  ]
}