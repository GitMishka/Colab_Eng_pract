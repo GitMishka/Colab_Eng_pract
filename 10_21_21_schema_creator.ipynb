{
  "nbformat": 4,
  "nbformat_minor": 0,
  "metadata": {
    "colab": {
      "provenance": [],
      "authorship_tag": "ABX9TyN30VdG+lKkI9W/MVvx/uyP",
      "include_colab_link": true
    },
    "kernelspec": {
      "name": "python3",
      "display_name": "Python 3"
    },
    "language_info": {
      "name": "python"
    }
  },
  "cells": [
    {
      "cell_type": "markdown",
      "metadata": {
        "id": "view-in-github",
        "colab_type": "text"
      },
      "source": [
        "<a href=\"https://colab.research.google.com/github/GitMishka/Colab_Eng_pract/blob/main/10_21_21_schema_creator.ipynb\" target=\"_parent\"><img src=\"https://colab.research.google.com/assets/colab-badge.svg\" alt=\"Open In Colab\"/></a>"
      ]
    },
    {
      "cell_type": "code",
      "source": [
        "!pip install psycopg2-binary\n"
      ],
      "metadata": {
        "colab": {
          "base_uri": "https://localhost:8080/"
        },
        "id": "RNkcZs8TRifX",
        "outputId": "2122e65b-a89a-4720-af96-857c660447b7"
      },
      "execution_count": 1,
      "outputs": [
        {
          "output_type": "stream",
          "name": "stdout",
          "text": [
            "Requirement already satisfied: psycopg2-binary in /usr/local/lib/python3.10/dist-packages (2.9.9)\n"
          ]
        }
      ]
    },
    {
      "cell_type": "code",
      "execution_count": 2,
      "metadata": {
        "id": "4V11JXHKL_IN"
      },
      "outputs": [],
      "source": [
        "import psycopg2\n",
        "from random import randint, choice\n",
        "from datetime import date, time\n",
        "from string import ascii_letters\n"
      ]
    },
    {
      "cell_type": "code",
      "source": [],
      "metadata": {
        "id": "jg_2RJb5RhEn"
      },
      "execution_count": 2,
      "outputs": []
    },
    {
      "cell_type": "code",
      "source": [
        "db_params = {\n",
        "    'dbname': 'colab_db',\n",
        "    'user': 'misha',\n",
        "    'password': '',\n",
        "    'host': 'mishasdb.postgres.database.azure.com',\n",
        "    'port': '5432'\n",
        "}"
      ],
      "metadata": {
        "id": "7QK1utNLMPlr"
      },
      "execution_count": 8,
      "outputs": []
    },
    {
      "cell_type": "code",
      "source": [
        "def random_string(length=10):\n",
        "    return ''.join(choice(ascii_letters) for _ in range(length))"
      ],
      "metadata": {
        "id": "sx3X2ZaFMnal"
      },
      "execution_count": 4,
      "outputs": []
    },
    {
      "cell_type": "code",
      "source": [
        "def random_date():\n",
        "    return date(randint(2000, 2023), randint(1, 12), randint(1, 28))"
      ],
      "metadata": {
        "id": "NVAaeAcbMpEu"
      },
      "execution_count": 5,
      "outputs": []
    },
    {
      "cell_type": "code",
      "source": [
        "def random_time():\n",
        "    return time(randint(0, 23), randint(0, 59))"
      ],
      "metadata": {
        "id": "JXLEtZJxMq9P"
      },
      "execution_count": 6,
      "outputs": []
    },
    {
      "cell_type": "code",
      "source": [
        "connection = psycopg2.connect(**db_params)\n",
        "cursor = connection.cursor()"
      ],
      "metadata": {
        "id": "Xy9U3A1zNM3j"
      },
      "execution_count": 10,
      "outputs": []
    },
    {
      "cell_type": "code",
      "source": [
        "cursor.execute('''\n",
        "CREATE TABLE IF NOT EXISTS table_one (\n",
        "    id SERIAL PRIMARY KEY,\n",
        "    location VARCHAR(100),\n",
        "    height FLOAT,\n",
        "    weight FLOAT,\n",
        "    description TEXT\n",
        ");\n",
        "''')\n",
        "for _ in range(100000):\n",
        "    cursor.execute(\"INSERT INTO table_one (location, height, weight, description) VALUES (%s, %s, %s, %s)\",\n",
        "                   (random_string(), randint(150, 210)/100, randint(50, 150), random_string(50)))"
      ],
      "metadata": {
        "id": "YofjMTpHV5Qi",
        "colab": {
          "base_uri": "https://localhost:8080/",
          "height": 309
        },
        "outputId": "d0a2dfe8-a05a-4f75-9d02-4d4fff6814ae"
      },
      "execution_count": 11,
      "outputs": [
        {
          "output_type": "error",
          "ename": "NameError",
          "evalue": "ignored",
          "traceback": [
            "\u001b[0;31m---------------------------------------------------------------------------\u001b[0m",
            "\u001b[0;31mNameError\u001b[0m                                 Traceback (most recent call last)",
            "\u001b[0;32m<ipython-input-11-8972fde7e2e5>\u001b[0m in \u001b[0;36m<cell line: 10>\u001b[0;34m()\u001b[0m\n\u001b[1;32m     10\u001b[0m \u001b[0;32mfor\u001b[0m \u001b[0m_\u001b[0m \u001b[0;32min\u001b[0m \u001b[0mrange\u001b[0m\u001b[0;34m(\u001b[0m\u001b[0;36m100000\u001b[0m\u001b[0;34m)\u001b[0m\u001b[0;34m:\u001b[0m\u001b[0;34m\u001b[0m\u001b[0;34m\u001b[0m\u001b[0m\n\u001b[1;32m     11\u001b[0m     cursor.execute(\"INSERT INTO table_one (location, height, weight, description) VALUES (%s, %s, %s, %s)\",\n\u001b[0;32m---> 12\u001b[0;31m                    (random_string(), randint(150, 210)/100, randint(50, 150), random_string(50)))\n\u001b[0m",
            "\u001b[0;32m<ipython-input-4-29ca5581a5a2>\u001b[0m in \u001b[0;36mrandom_string\u001b[0;34m(length)\u001b[0m\n\u001b[1;32m      1\u001b[0m \u001b[0;32mdef\u001b[0m \u001b[0mrandom_string\u001b[0m\u001b[0;34m(\u001b[0m\u001b[0mlength\u001b[0m\u001b[0;34m=\u001b[0m\u001b[0;36m10\u001b[0m\u001b[0;34m)\u001b[0m\u001b[0;34m:\u001b[0m\u001b[0;34m\u001b[0m\u001b[0;34m\u001b[0m\u001b[0m\n\u001b[0;32m----> 2\u001b[0;31m     \u001b[0;32mreturn\u001b[0m \u001b[0;34m''\u001b[0m\u001b[0;34m.\u001b[0m\u001b[0mjoin\u001b[0m\u001b[0;34m(\u001b[0m\u001b[0mchoice\u001b[0m\u001b[0;34m(\u001b[0m\u001b[0mascii_letters\u001b[0m\u001b[0;34m)\u001b[0m \u001b[0;32mfor\u001b[0m \u001b[0m_\u001b[0m \u001b[0;32min\u001b[0m \u001b[0mrange\u001b[0m\u001b[0;34m(\u001b[0m\u001b[0mlength\u001b[0m\u001b[0;34m)\u001b[0m\u001b[0;34m)\u001b[0m\u001b[0;34m\u001b[0m\u001b[0;34m\u001b[0m\u001b[0m\n\u001b[0m",
            "\u001b[0;32m<ipython-input-4-29ca5581a5a2>\u001b[0m in \u001b[0;36m<genexpr>\u001b[0;34m(.0)\u001b[0m\n\u001b[1;32m      1\u001b[0m \u001b[0;32mdef\u001b[0m \u001b[0mrandom_string\u001b[0m\u001b[0;34m(\u001b[0m\u001b[0mlength\u001b[0m\u001b[0;34m=\u001b[0m\u001b[0;36m10\u001b[0m\u001b[0;34m)\u001b[0m\u001b[0;34m:\u001b[0m\u001b[0;34m\u001b[0m\u001b[0;34m\u001b[0m\u001b[0m\n\u001b[0;32m----> 2\u001b[0;31m     \u001b[0;32mreturn\u001b[0m \u001b[0;34m''\u001b[0m\u001b[0;34m.\u001b[0m\u001b[0mjoin\u001b[0m\u001b[0;34m(\u001b[0m\u001b[0mchoice\u001b[0m\u001b[0;34m(\u001b[0m\u001b[0mascii_letters\u001b[0m\u001b[0;34m)\u001b[0m \u001b[0;32mfor\u001b[0m \u001b[0m_\u001b[0m \u001b[0;32min\u001b[0m \u001b[0mrange\u001b[0m\u001b[0;34m(\u001b[0m\u001b[0mlength\u001b[0m\u001b[0;34m)\u001b[0m\u001b[0;34m)\u001b[0m\u001b[0;34m\u001b[0m\u001b[0;34m\u001b[0m\u001b[0m\n\u001b[0m",
            "\u001b[0;31mNameError\u001b[0m: name 'ascii_letters' is not defined"
          ]
        }
      ]
    },
    {
      "cell_type": "code",
      "source": [
        "cursor.execute('''\n",
        "CREATE TABLE IF NOT EXISTS table_two (\n",
        "    id SERIAL PRIMARY KEY,\n",
        "    color VARCHAR(50),\n",
        "    brand VARCHAR(50),\n",
        "    size VARCHAR(10),\n",
        "    notes TEXT\n",
        ");\n",
        "''')\n",
        "for _ in range(100000):\n",
        "    cursor.execute(\"INSERT INTO table_two (color, brand, size, notes) VALUES (%s, %s, %s, %s)\",\n",
        "                   (random_string(7), random_string(10), random_string(5), random_string(50)))\n",
        "\n"
      ],
      "metadata": {
        "id": "XoP_fmY8WHiT"
      },
      "execution_count": null,
      "outputs": []
    },
    {
      "cell_type": "code",
      "source": [
        "cursor.execute('''\n",
        "CREATE TABLE IF NOT EXISTS table_three (\n",
        "    id SERIAL PRIMARY KEY,\n",
        "    date DATE,\n",
        "    time TIME,\n",
        "    duration INTEGER,\n",
        "    details TEXT\n",
        ");\n",
        "''')\n",
        "for _ in range(100000):\n",
        "    cursor.execute(\"INSERT INTO table_three (date, time, duration, details) VALUES (%s, %s, %s, %s)\",\n",
        "                   (random_date(), random_time(), randint(1, 480), random_string(50)))\n",
        "\n"
      ],
      "metadata": {
        "id": "3mhhDliTWUE-"
      },
      "execution_count": null,
      "outputs": []
    },
    {
      "cell_type": "code",
      "source": [
        "connection.commit()\n",
        "cursor.close()\n",
        "connection.close()"
      ],
      "metadata": {
        "id": "cv11veDsWYLf"
      },
      "execution_count": null,
      "outputs": []
    }
  ]
}