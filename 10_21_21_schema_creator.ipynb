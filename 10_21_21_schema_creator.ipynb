{
  "nbformat": 4,
  "nbformat_minor": 0,
  "metadata": {
    "colab": {
      "provenance": [],
      "authorship_tag": "ABX9TyPLUTprnO4wdh+6t0afu9Bl",
      "include_colab_link": true
    },
    "kernelspec": {
      "name": "python3",
      "display_name": "Python 3"
    },
    "language_info": {
      "name": "python"
    }
  },
  "cells": [
    {
      "cell_type": "markdown",
      "metadata": {
        "id": "view-in-github",
        "colab_type": "text"
      },
      "source": [
        "<a href=\"https://colab.research.google.com/github/GitMishka/Colab_Eng_pract/blob/main/10_21_21_schema_creator.ipynb\" target=\"_parent\"><img src=\"https://colab.research.google.com/assets/colab-badge.svg\" alt=\"Open In Colab\"/></a>"
      ]
    },
    {
      "cell_type": "code",
      "source": [
        "!pip install psycopg2-binary\n"
      ],
      "metadata": {
        "colab": {
          "base_uri": "https://localhost:8080/"
        },
        "id": "RNkcZs8TRifX",
        "outputId": "c0a6d210-bd67-487a-b5cc-06db39dd00b7"
      },
      "execution_count": 1,
      "outputs": [
        {
          "output_type": "stream",
          "name": "stdout",
          "text": [
            "Requirement already satisfied: psycopg2-binary in /usr/local/lib/python3.10/dist-packages (2.9.9)\n"
          ]
        }
      ]
    },
    {
      "cell_type": "code",
      "execution_count": 5,
      "metadata": {
        "id": "4V11JXHKL_IN"
      },
      "outputs": [],
      "source": [
        "import psycopg2\n",
        "from random import randint, choice\n",
        "from datetime import date, time\n"
      ]
    },
    {
      "cell_type": "code",
      "source": [],
      "metadata": {
        "id": "jg_2RJb5RhEn"
      },
      "execution_count": null,
      "outputs": []
    },
    {
      "cell_type": "code",
      "source": [
        "db_params = {\n",
        "    'dbname': 'colab_db',\n",
        "    'user': 'misha',\n",
        "    'password': '',\n",
        "    'host': 'mishasdb.postgres.database.azure.com',\n",
        "    'port': '5432'\n",
        "}"
      ],
      "metadata": {
        "id": "7QK1utNLMPlr"
      },
      "execution_count": 6,
      "outputs": []
    },
    {
      "cell_type": "code",
      "source": [
        "def random_string(length=10):\n",
        "    return ''.join(choice(ascii_letters) for _ in range(length))"
      ],
      "metadata": {
        "id": "sx3X2ZaFMnal"
      },
      "execution_count": null,
      "outputs": []
    },
    {
      "cell_type": "code",
      "source": [
        "def random_date():\n",
        "    return date(randint(2000, 2023), randint(1, 12), randint(1, 28))"
      ],
      "metadata": {
        "id": "NVAaeAcbMpEu"
      },
      "execution_count": null,
      "outputs": []
    },
    {
      "cell_type": "code",
      "source": [
        "def random_time():\n",
        "    return time(randint(0, 23), randint(0, 59))"
      ],
      "metadata": {
        "id": "JXLEtZJxMq9P"
      },
      "execution_count": null,
      "outputs": []
    },
    {
      "cell_type": "code",
      "source": [
        "connection = psycopg2.connect(**db_params)\n",
        "cursor = connection.cursor()"
      ],
      "metadata": {
        "id": "Xy9U3A1zNM3j"
      },
      "execution_count": null,
      "outputs": []
    }
  ]
}