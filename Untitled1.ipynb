{
  "nbformat": 4,
  "nbformat_minor": 0,
  "metadata": {
    "colab": {
      "provenance": [],
      "authorship_tag": "ABX9TyOVD4cR29S6l4dRzOPxrBg/",
      "include_colab_link": true
    },
    "kernelspec": {
      "name": "python3",
      "display_name": "Python 3"
    },
    "language_info": {
      "name": "python"
    }
  },
  "cells": [
    {
      "cell_type": "markdown",
      "metadata": {
        "id": "view-in-github",
        "colab_type": "text"
      },
      "source": [
        "<a href=\"https://colab.research.google.com/github/GitMishka/Colab_Eng_pract/blob/main/Untitled1.ipynb\" target=\"_parent\"><img src=\"https://colab.research.google.com/assets/colab-badge.svg\" alt=\"Open In Colab\"/></a>"
      ]
    },
    {
      "cell_type": "code",
      "execution_count": null,
      "metadata": {
        "id": "RPZD7JzzK3Dv"
      },
      "outputs": [],
      "source": [
        "from pyspark.sql import SparkSession\n",
        "\n",
        "spark = SparkSession.builder.appName(\"ReadCSV\").getOrCreate()\n",
        "\n",
        "df = spark.read.csv(\"/path/to/your/file.csv\", header=True, inferSchema=True)\n",
        "\n",
        "df.show()\n",
        "\n",
        "\n"
      ]
    },
    {
      "cell_type": "code",
      "source": [
        "from pyspark.sql.functions import col\n",
        "\n",
        "selected_data = df.select(\"column1\", \"column2\")\n",
        "\n",
        "filtered_data = df.filter(col(\"column3\") > 100)\n",
        "\n",
        "transformed_data = df.withColumn(\"new_column\", col(\"column4\") * 2)\n"
      ],
      "metadata": {
        "id": "28eILYTFLvTm"
      },
      "execution_count": null,
      "outputs": []
    }
  ]
}