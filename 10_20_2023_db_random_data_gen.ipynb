{
  "nbformat": 4,
  "nbformat_minor": 0,
  "metadata": {
    "colab": {
      "provenance": [],
      "authorship_tag": "ABX9TyPqzvMy/BnLtiW9Xz65TcAu",
      "include_colab_link": true
    },
    "kernelspec": {
      "name": "python3",
      "display_name": "Python 3"
    },
    "language_info": {
      "name": "python"
    }
  },
  "cells": [
    {
      "cell_type": "markdown",
      "metadata": {
        "id": "view-in-github",
        "colab_type": "text"
      },
      "source": [
        "<a href=\"https://colab.research.google.com/github/GitMishka/Colab_Eng_pract/blob/main/10_20_2023_db_random_data_gen.ipynb\" target=\"_parent\"><img src=\"https://colab.research.google.com/assets/colab-badge.svg\" alt=\"Open In Colab\"/></a>"
      ]
    },
    {
      "cell_type": "code",
      "execution_count": null,
      "metadata": {
        "id": "sk7R4BSCEo8i"
      },
      "outputs": [],
      "source": [
        "!pip install psycopg2\n"
      ]
    },
    {
      "cell_type": "code",
      "source": [
        "import psycopg2\n",
        "from random import randint, choice\n",
        "from string import ascii_letters\n",
        "\n",
        "# Database connection parameters - You'll need to update these to match your setup\n",
        "db_params = {\n",
        "    'dbname': 'your_db_name',\n",
        "    'user': 'your_username',\n",
        "    'password': 'your_password',\n",
        "    'host': 'localhost',\n",
        "    'port': '5432'\n",
        "}"
      ],
      "metadata": {
        "id": "cdzxeTrME95G"
      },
      "execution_count": null,
      "outputs": []
    },
    {
      "cell_type": "code",
      "source": [
        "\n",
        "def random_string(length=10):\n",
        "    return ''.join(choice(ascii_letters) for _ in range(length))\n",
        "\n",
        "connection = psycopg2.connect(**db_params)\n",
        "cursor = connection.cursor()\n",
        "\n",
        "cursor.execute('''\n",
        "CREATE TABLE IF NOT EXISTS my_table (\n",
        "    id SERIAL PRIMARY KEY,\n",
        "    name VARCHAR(100),\n",
        "    age INTEGER,\n",
        "    score FLOAT,\n",
        "    comments TEXT\n",
        ");\n",
        "''')"
      ],
      "metadata": {
        "id": "BCCuej6uFELS"
      },
      "execution_count": null,
      "outputs": []
    },
    {
      "cell_type": "code",
      "source": [
        "for _ in range(100000):\n",
        "    name = random_string()\n",
        "    age = randint(18, 99)\n",
        "    score = randint(0, 100) + randint(0, 99) / 100.0  # random float between 0 and 100\n",
        "    comments = random_string(50)\n",
        "    cursor.execute(\"INSERT INTO my_table (name, age, score, comments) VALUES (%s, %s, %s, %s)\",\n",
        "                   (name, age, score, comments))\n",
        "\n",
        "connection.commit()\n",
        "cursor.close()\n",
        "connection.close()\n",
        "\n",
        "\n",
        "\n"
      ],
      "metadata": {
        "id": "wkqyZECQFOAv"
      },
      "execution_count": null,
      "outputs": []
    }
  ]
}